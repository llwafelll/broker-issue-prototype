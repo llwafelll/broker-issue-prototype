{
 "cells": [
  {
   "cell_type": "code",
   "execution_count": 1,
   "id": "b51752e7",
   "metadata": {},
   "outputs": [],
   "source": [
    "import numpy as np\n",
    "import matplotlib.pyplot as plt\n",
    "import pandas as pd\n",
    "import copy\n",
    "import itertools as it"
   ]
  },
  {
   "cell_type": "markdown",
   "id": "5cc4d2aa",
   "metadata": {},
   "source": [
    "## Transportation problem\n",
    "TODO:\n",
    "- Handle `supply != demand` scenario"
   ]
  },
  {
   "cell_type": "markdown",
   "id": "58754ef1",
   "metadata": {},
   "source": [
    "### Prepare data"
   ]
  },
  {
   "cell_type": "code",
   "execution_count": 229,
   "id": "0277ce07",
   "metadata": {},
   "outputs": [],
   "source": [
    "costs = np.array(\n",
    "    [[3,  5,  7],\n",
    "    [12, 10, 9],\n",
    "    [13, 3,  9]]\n",
    ")\n",
    "supply = np.array([20, 40, 90]) # podaż\n",
    "demand = np.array([50, 70, 30])  #popyt \n",
    "\n",
    "SIZE = costs.shape[0]\n",
    "\n",
    "transportation = np.zeros((SIZE, SIZE))\n",
    "\n",
    "# List of tuples (x, y) which describes position allowed to read\n",
    "path: list[tuple] = []"
   ]
  },
  {
   "cell_type": "markdown",
   "id": "b81b841b",
   "metadata": {},
   "source": [
    "### Create path\n",
    "Create `path` variable, `transportation` matrix and substract values from `demand`/`supply` lists"
   ]
  },
  {
   "cell_type": "code",
   "execution_count": 230,
   "id": "95b35ec3",
   "metadata": {},
   "outputs": [],
   "source": [
    "d, s = 0, 0\n",
    "while(True):   \n",
    "    if d == SIZE or s == SIZE:\n",
    "        break\n",
    "        \n",
    "    if demand[d] >= supply[s]:\n",
    "        demand[d] -= supply[s]\n",
    "        transportation[d, s] = supply[s]\n",
    "        \n",
    "        path.append((d, s))\n",
    "        s += 1\n",
    "    \n",
    "    else:\n",
    "        supply[s] -= demand[d]\n",
    "        transportation[d, s] = demand[d]\n",
    "        \n",
    "        path.append((d, s))\n",
    "        d += 1"
   ]
  },
  {
   "cell_type": "code",
   "execution_count": 106,
   "id": "4f349a98",
   "metadata": {},
   "outputs": [
    {
     "data": {
      "text/plain": [
       "array([[10.,  0., 10.,  0.],\n",
       "       [ 0., 28.,  2.,  0.],\n",
       "       [ 0.,  0., 15., 50.]])"
      ]
     },
     "execution_count": 106,
     "metadata": {},
     "output_type": "execute_result"
    }
   ],
   "source": [
    "transportation"
   ]
  },
  {
   "cell_type": "code",
   "execution_count": 105,
   "id": "985b8150",
   "metadata": {
    "scrolled": true
   },
   "outputs": [
    {
     "data": {
      "text/plain": [
       "[(0, 0), (0, 2), (1, 1), (1, 2), (2, 3), (2, 2)]"
      ]
     },
     "execution_count": 105,
     "metadata": {},
     "output_type": "execute_result"
    }
   ],
   "source": [
    "path"
   ]
  },
  {
   "cell_type": "markdown",
   "id": "ca8679a3",
   "metadata": {},
   "source": [
    "### Make zeros on the path"
   ]
  },
  {
   "cell_type": "code",
   "execution_count": 220,
   "id": "00d46187",
   "metadata": {},
   "outputs": [],
   "source": [
    "# Custom path for testing\n",
    "path = [(0, 0), (0, 1), (1, 2), (2, 1), (2, 2)]"
   ]
  },
  {
   "cell_type": "code",
   "execution_count": 231,
   "id": "8dda3028",
   "metadata": {
    "scrolled": true
   },
   "outputs": [],
   "source": [
    "O = np.zeros((SIZE,)) # alpha\n",
    "D = np.zeros((SIZE,)) # beta\n",
    "sO = np.full((SIZE,), False, dtype=bool) # state O\n",
    "sO[0] = True\n",
    "sD = np.full((SIZE,), False, dtype=bool) # state D\n",
    "\n",
    "c_path = path[:] # copy of path for modification\n",
    "\n",
    "c = 0 # counter\n",
    "while(True):\n",
    "    i, j = c_path[c]\n",
    "    # If one of the values is True and remaining False\n",
    "    if sO[i] ^ sD[j]:\n",
    "        if sO[i]:\n",
    "            D[j] = -1 * (O[i] + D[j] + costs[i, j])\n",
    "            sD[j] = True\n",
    "        else:\n",
    "            O[i] = -1 * (O[i] + D[j] + costs[i, j])\n",
    "            sO[i] = True\n",
    "        c += 1\n",
    "    \n",
    "    # If both values are True\n",
    "    elif not (sO[i] & sD[j]):\n",
    "        c_path.append(c_path.pop(c))\n",
    "    \n",
    "    # If both values are False\n",
    "    else:\n",
    "        print(\"Error - both values sO[i] and sD[j] contain False value!\")\n",
    "        break\n",
    "\n",
    "    if c > len(c_path) - 1:\n",
    "        break"
   ]
  },
  {
   "cell_type": "markdown",
   "id": "f6b4706d",
   "metadata": {},
   "source": [
    "##### Results"
   ]
  },
  {
   "cell_type": "code",
   "execution_count": 238,
   "id": "74f49386",
   "metadata": {
    "scrolled": true
   },
   "outputs": [
    {
     "data": {
      "text/plain": [
       "array([[ 0.],\n",
       "       [-5.],\n",
       "       [-5.]])"
      ]
     },
     "execution_count": 238,
     "metadata": {},
     "output_type": "execute_result"
    }
   ],
   "source": [
    "O[:, np.newaxis]"
   ]
  },
  {
   "cell_type": "code",
   "execution_count": 233,
   "id": "e3ae4262",
   "metadata": {
    "scrolled": true
   },
   "outputs": [
    {
     "data": {
      "text/plain": [
       "array([-3., -5., -4.])"
      ]
     },
     "execution_count": 233,
     "metadata": {},
     "output_type": "execute_result"
    }
   ],
   "source": [
    "D"
   ]
  },
  {
   "cell_type": "markdown",
   "id": "fef64bc0",
   "metadata": {},
   "source": [
    "## Find minimal value of transportation matrix\n",
    "After substracting alpha and beta"
   ]
  },
  {
   "cell_type": "markdown",
   "id": "6b9f2bcc",
   "metadata": {},
   "source": [
    "### Sum costs, O and D (alpha, beta)"
   ]
  },
  {
   "cell_type": "code",
   "execution_count": 244,
   "id": "afe91951",
   "metadata": {
    "scrolled": true
   },
   "outputs": [
    {
     "data": {
      "text/plain": [
       "array([[ 0.,  0.,  3.],\n",
       "       [ 4.,  0.,  0.],\n",
       "       [ 5., -7.,  0.]])"
      ]
     },
     "execution_count": 244,
     "metadata": {},
     "output_type": "execute_result"
    }
   ],
   "source": [
    "r_costs = costs + D + O[:, np.newaxis]\n",
    "r_costs"
   ]
  },
  {
   "cell_type": "code",
   "execution_count": 265,
   "id": "7e01ab78",
   "metadata": {
    "scrolled": true
   },
   "outputs": [],
   "source": [
    "# Store minimum value index of r_costs\n",
    "min_value_i = np.unravel_index(np.argmin(r_costs, axis=None), r_costs.shape)\n",
    "\n",
    "# Check if minimum value is negative, if not program should break\n",
    "if r_costs[min_value_i] >= 0:\n",
    "    min_value_i = None"
   ]
  },
  {
   "cell_type": "code",
   "execution_count": 270,
   "id": "c6ca902a",
   "metadata": {
    "scrolled": false
   },
   "outputs": [
    {
     "data": {
      "text/plain": [
       "array([-7.,  0.])"
      ]
     },
     "execution_count": 270,
     "metadata": {},
     "output_type": "execute_result"
    }
   ],
   "source": [
    "r_costs[[2, 1], [2, 1]]"
   ]
  },
  {
   "cell_type": "markdown",
   "id": "518b40e0",
   "metadata": {},
   "source": [
    "### Find delta indices"
   ]
  },
  {
   "cell_type": "code",
   "execution_count": 332,
   "id": "d1dee34c",
   "metadata": {
    "scrolled": true
   },
   "outputs": [],
   "source": [
    "assert min_value_i != None\n",
    "indices = []\n",
    "a, b = min_value_i\n",
    "\n",
    "for c1, c2 in it.product(range(1, SIZE), repeat=2):\n",
    "    indices = [\n",
    "                (a, b),\n",
    "                ((a + c1)%3, b),\n",
    "                (a, (b + c2)%3),\n",
    "                ((a + c1)%3, (b + c2)%3)\n",
    "                ]\n",
    "    \n",
    "    e = tuple(zip(*indices))\n",
    "    if all((i in path for i in indices[1:])):\n",
    "        break"
   ]
  },
  {
   "cell_type": "markdown",
   "id": "2da3b8de",
   "metadata": {},
   "source": [
    "##### Results"
   ]
  },
  {
   "cell_type": "code",
   "execution_count": 333,
   "id": "a52bbeb6",
   "metadata": {
    "scrolled": true
   },
   "outputs": [
    {
     "data": {
      "text/plain": [
       "[(2, 1), (1, 1), (2, 2), (1, 2)]"
      ]
     },
     "execution_count": 333,
     "metadata": {},
     "output_type": "execute_result"
    }
   ],
   "source": [
    "indices"
   ]
  },
  {
   "cell_type": "code",
   "execution_count": 336,
   "id": "859837f0",
   "metadata": {
    "scrolled": true
   },
   "outputs": [
    {
     "data": {
      "text/plain": [
       "array([-7.,  0., -7.,  0.])"
      ]
     },
     "execution_count": 336,
     "metadata": {},
     "output_type": "execute_result"
    }
   ],
   "source": [
    "r_costs[tuple(zip(*indices))]"
   ]
  },
  {
   "cell_type": "code",
   "execution_count": 347,
   "id": "4b2a4636",
   "metadata": {
    "scrolled": true
   },
   "outputs": [
    {
     "data": {
      "text/plain": [
       "10.0"
      ]
     },
     "execution_count": 347,
     "metadata": {},
     "output_type": "execute_result"
    }
   ],
   "source": [
    "# Get the minimal value for minus delta (...[e][1::2])\n",
    "e = tuple(zip(*indices))\n",
    "min_transp = np.min(transportation[e][1::2])\n",
    "min_transp"
   ]
  },
  {
   "cell_type": "markdown",
   "id": "dcdede9c",
   "metadata": {},
   "source": [
    "### Others"
   ]
  },
  {
   "cell_type": "code",
   "execution_count": 107,
   "id": "70b15a68",
   "metadata": {
    "scrolled": true
   },
   "outputs": [
    {
     "data": {
      "text/plain": [
       "array([ 3,  5, 10,  9,  9])"
      ]
     },
     "execution_count": 107,
     "metadata": {},
     "output_type": "execute_result"
    }
   ],
   "source": [
    "v = list(zip(*path))\n",
    "costs[v[0], v[1]]"
   ]
  },
  {
   "cell_type": "code",
   "execution_count": 283,
   "id": "aa8245a6",
   "metadata": {
    "scrolled": true
   },
   "outputs": [
    {
     "data": {
      "text/plain": [
       "[(1, 1), (1, 2), (2, 1), (2, 2)]"
      ]
     },
     "execution_count": 283,
     "metadata": {},
     "output_type": "execute_result"
    }
   ],
   "source": [
    "list(it.product([1, 2], repeat=2))"
   ]
  },
  {
   "cell_type": "code",
   "execution_count": 304,
   "id": "61bbf782",
   "metadata": {
    "scrolled": false
   },
   "outputs": [
    {
     "data": {
      "text/plain": [
       "array([[ 0.,  0.,  3.],\n",
       "       [ 4.,  0.,  0.],\n",
       "       [ 5., -7., -7.]])"
      ]
     },
     "execution_count": 304,
     "metadata": {},
     "output_type": "execute_result"
    }
   ],
   "source": [
    "r_costs"
   ]
  },
  {
   "cell_type": "code",
   "execution_count": null,
   "id": "8d6909af",
   "metadata": {},
   "outputs": [],
   "source": [
    "r_costs[]"
   ]
  },
  {
   "cell_type": "code",
   "execution_count": 300,
   "id": "2e93c754",
   "metadata": {
    "scrolled": true
   },
   "outputs": [
    {
     "data": {
      "text/plain": [
       "array([-7.,  0.,  5.,  4.])"
      ]
     },
     "execution_count": 300,
     "metadata": {},
     "output_type": "execute_result"
    }
   ],
   "source": [
    "r_costs[tuple(zip(*indices))]"
   ]
  },
  {
   "cell_type": "markdown",
   "id": "3abb4001",
   "metadata": {},
   "source": [
    "## The broker issue"
   ]
  },
  {
   "cell_type": "code",
   "execution_count": 173,
   "id": "08a68b44",
   "metadata": {},
   "outputs": [],
   "source": [
    "# Unit transportation costs\n",
    "costs = np.array([\n",
    "        [8, 14, 17],\n",
    "        [12, 9, 19]\n",
    "    ]\n",
    ")\n",
    "\n",
    "# Popyt i podaż dla odbiorców O1, O2, ... o dostawców D1, D2, ...\n",
    "supply = np.array([20, 30]) # podaż\n",
    "demand = np.array([10, 28, 27])  #popyt \n",
    "\n",
    "# Handling unbalanced scenario (fictional supplier/receiver)\n",
    "profit = np.array([])\n",
    "# If the sum of demand and supply is neq add fictional supplier and receiver\n",
    "if (demand_sum := demand.sum()) != (supply_sum := supply.sum()):\n",
    "    supply = np.append(supply, [demand_sum])\n",
    "    demand = np.append(demand, [supply_sum])\n",
    "    profit = np.zeros((supply.size, demand.size))\n",
    "\n",
    "\n",
    "# Koszty zakupów / Cena sprzedaży\n",
    "order_costs = np.array([10, 12])\n",
    "sell_costs = np.array([30, 25, 30])\n",
    "\n",
    "SHAPE = costs.shape\n",
    "# SIZE = costs.shape[0]\n",
    "\n",
    "transportation = np.zeros((supply.size, demand.size))\n",
    "\n",
    "# List of tuples (x, y) which describes position allowed to read\n",
    "path: list[tuple] = []"
   ]
  },
  {
   "cell_type": "markdown",
   "id": "2103c565",
   "metadata": {},
   "source": [
    "### Create profit matrix"
   ]
  },
  {
   "cell_type": "code",
   "execution_count": 174,
   "id": "418f0e4a",
   "metadata": {},
   "outputs": [],
   "source": [
    "# Zysk jednostkowy\n",
    "if profit.size == 0:\n",
    "    profit = np.zeros(SHAPE)\n",
    "\n",
    "for i, j in it.product(range(SHAPE[0]), range(SHAPE[1])):\n",
    "    profit[i, j] = sell_costs[j] - order_costs[i] - costs[i, j]"
   ]
  },
  {
   "cell_type": "code",
   "execution_count": 9,
   "id": "20212d49",
   "metadata": {
    "scrolled": false
   },
   "outputs": [
    {
     "data": {
      "text/plain": [
       "array([[12.,  1.,  3.],\n",
       "       [ 6.,  4., -1.]])"
      ]
     },
     "execution_count": 9,
     "metadata": {},
     "output_type": "execute_result"
    }
   ],
   "source": [
    "profit"
   ]
  },
  {
   "cell_type": "markdown",
   "id": "9cba1746",
   "metadata": {},
   "source": [
    "### Create transportation costs matrix"
   ]
  },
  {
   "cell_type": "code",
   "execution_count": 175,
   "id": "5a04fbb5",
   "metadata": {
    "scrolled": false
   },
   "outputs": [],
   "source": [
    "d, s = 0, 0\n",
    "# Create array of indices that are pointing array elements\n",
    "# in a sorted order\n",
    "profit_sorted = np.argsort(np.absolute(profit), axis=1).tolist()\n",
    "while(True):\n",
    "    if supply[s] != 0:\n",
    "        d = profit_sorted[s].pop() \n",
    "        if demand[d] == 0:\n",
    "            continue\n",
    "        path.append((s, d))\n",
    "        \n",
    "        if demand[d] >= supply[s]:\n",
    "            demand[d] -= supply[s]\n",
    "            transportation[s, d] = supply[s]\n",
    "            supply[s] = 0\n",
    "            \n",
    "        else:\n",
    "            supply[s] -= demand[d]\n",
    "            transportation[s, d] = demand[d]\n",
    "            demand[d] = 0\n",
    "\n",
    "    else:\n",
    "        s += 1\n",
    "\n",
    "    if s >= supply.size:\n",
    "        break"
   ]
  },
  {
   "cell_type": "code",
   "execution_count": 118,
   "id": "519fe24e",
   "metadata": {
    "scrolled": true
   },
   "outputs": [
    {
     "data": {
      "text/plain": [
       "array([[10.,  0., 10.,  0.],\n",
       "       [ 0., 28.,  2.,  0.],\n",
       "       [ 0.,  0., 15., 50.]])"
      ]
     },
     "execution_count": 118,
     "metadata": {},
     "output_type": "execute_result"
    }
   ],
   "source": [
    "transportation"
   ]
  },
  {
   "cell_type": "code",
   "execution_count": 119,
   "id": "faa98946",
   "metadata": {
    "scrolled": false
   },
   "outputs": [
    {
     "data": {
      "text/plain": [
       "array([[12.,  1.,  3.,  0.],\n",
       "       [ 6.,  4., -1.,  0.],\n",
       "       [ 0.,  0.,  0.,  0.]])"
      ]
     },
     "execution_count": 119,
     "metadata": {},
     "output_type": "execute_result"
    }
   ],
   "source": [
    "profit"
   ]
  },
  {
   "cell_type": "markdown",
   "id": "9f2bc4a5",
   "metadata": {},
   "source": [
    "### Find alpha and beta"
   ]
  },
  {
   "cell_type": "code",
   "execution_count": 176,
   "id": "4c511d50",
   "metadata": {},
   "outputs": [],
   "source": [
    "# Declare alpha and beta\n",
    "O = np.zeros((profit.shape[0],)) # alpha\n",
    "D = np.zeros((profit.shape[1],)) # beta\n",
    "\n",
    "# Helper variables\n",
    "sO = np.full((profit.shape[0],), False, dtype=bool) # state O\n",
    "sO[0] = True\n",
    "sD = np.full((profit.shape[1],), False, dtype=bool) # state D\n",
    "\n",
    "# Copy of path array (path should be read-only)\n",
    "c_path = path[:] # copy of path for modification\n",
    "\n",
    "c = 0 # counter\n",
    "while(True):\n",
    "    i, j = c_path[c]\n",
    "    # If values are opposite (False, True or True, False)\n",
    "    if sO[i] ^ sD[j]:\n",
    "        if sO[i]:\n",
    "            D[j] = 1 * (- O[i] - D[j] + profit[i, j])\n",
    "            sD[j] = True\n",
    "        else:\n",
    "            O[i] = 1 * (- O[i] - D[j] + profit[i, j])\n",
    "            sO[i] = True\n",
    "        c += 1\n",
    "    \n",
    "    # If both values are True\n",
    "    elif not (sO[i] & sD[j]):\n",
    "        c_path.append(c_path.pop(c))\n",
    "    \n",
    "    # If both values are False\n",
    "    else:\n",
    "        print(\"Error - both values sO[i] and sD[j] contain False value!\")\n",
    "        break\n",
    "\n",
    "    if c > len(c_path) - 1:\n",
    "        break"
   ]
  },
  {
   "cell_type": "code",
   "execution_count": 121,
   "id": "741137b9",
   "metadata": {
    "scrolled": true
   },
   "outputs": [
    {
     "data": {
      "text/plain": [
       "array([ 0., -4., -3.])"
      ]
     },
     "execution_count": 121,
     "metadata": {},
     "output_type": "execute_result"
    }
   ],
   "source": [
    "O"
   ]
  },
  {
   "cell_type": "code",
   "execution_count": 122,
   "id": "971e5499",
   "metadata": {
    "scrolled": false
   },
   "outputs": [
    {
     "data": {
      "text/plain": [
       "array([12.,  8.,  3.,  3.])"
      ]
     },
     "execution_count": 122,
     "metadata": {},
     "output_type": "execute_result"
    }
   ],
   "source": [
    "D"
   ]
  },
  {
   "cell_type": "markdown",
   "id": "c3ce4f90",
   "metadata": {},
   "source": [
    "### Find minimal value of transportation matrix\n",
    "After substracting alpha and beta"
   ]
  },
  {
   "cell_type": "markdown",
   "id": "80bdaada",
   "metadata": {},
   "source": [
    "#### Sum costs, O and D (alpha, beta)"
   ]
  },
  {
   "cell_type": "code",
   "execution_count": 177,
   "id": "a849dc8b",
   "metadata": {},
   "outputs": [
    {
     "data": {
      "text/plain": [
       "array([[ 0., -7.,  0., -3.],\n",
       "       [-2.,  0.,  0.,  1.],\n",
       "       [-9., -5.,  0.,  0.]])"
      ]
     },
     "execution_count": 177,
     "metadata": {},
     "output_type": "execute_result"
    }
   ],
   "source": [
    "r_profit = profit - D - O[:, np.newaxis]\n",
    "r_profit"
   ]
  },
  {
   "cell_type": "code",
   "execution_count": 178,
   "id": "c3d48fa9",
   "metadata": {
    "scrolled": true
   },
   "outputs": [],
   "source": [
    "# Store minimum value index of r_costs\n",
    "max_value_i = np.unravel_index(np.argmax(r_profit, axis=None), r_profit.shape)\n",
    "\n",
    "# Check if maximum value is positive, if not program should break\n",
    "if r_profit[max_value_i] <= 0:\n",
    "    max_value_i = None"
   ]
  },
  {
   "cell_type": "markdown",
   "id": "466a8dcb",
   "metadata": {},
   "source": [
    "#### Find delta indices"
   ]
  },
  {
   "cell_type": "code",
   "execution_count": 180,
   "id": "b5d529b4",
   "metadata": {},
   "outputs": [],
   "source": [
    "assert max_value_i != None\n",
    "indices = []\n",
    "a, b = max_value_i\n",
    "c1_max, c2_max = r_profit.shape[0], r_profit.shape[1]\n",
    "\n",
    "for c1, c2 in it.product(range(1, c1_max+1), range(1, c2_max+1)):\n",
    "    indices = [\n",
    "                (a, b),\n",
    "                ((a + c1)%(c1_max), b),\n",
    "                (a, (b + c2)%(c2_max)),\n",
    "                ((a + c1)%(c1_max), (b + c2)%(c2_max))\n",
    "                ]\n",
    "    \n",
    "    e = tuple(zip(*indices))\n",
    "    if all((i in path for i in indices[1:])):\n",
    "        break"
   ]
  },
  {
   "cell_type": "code",
   "execution_count": 181,
   "id": "55cc7fd0",
   "metadata": {
    "scrolled": false
   },
   "outputs": [
    {
     "data": {
      "text/plain": [
       "[(1, 3), (2, 3), (1, 2), (2, 2)]"
      ]
     },
     "execution_count": 181,
     "metadata": {},
     "output_type": "execute_result"
    }
   ],
   "source": [
    "indices"
   ]
  },
  {
   "cell_type": "code",
   "execution_count": 182,
   "id": "9397f0a3",
   "metadata": {
    "scrolled": true
   },
   "outputs": [
    {
     "data": {
      "text/plain": [
       "array([1., 0., 0., 0.])"
      ]
     },
     "execution_count": 182,
     "metadata": {},
     "output_type": "execute_result"
    }
   ],
   "source": [
    "r_profit[tuple(zip(*indices))]"
   ]
  },
  {
   "cell_type": "code",
   "execution_count": 183,
   "id": "90bb4458",
   "metadata": {
    "scrolled": false
   },
   "outputs": [
    {
     "data": {
      "text/plain": [
       "array([ 0.,  0., -1.,  0.])"
      ]
     },
     "execution_count": 183,
     "metadata": {},
     "output_type": "execute_result"
    }
   ],
   "source": [
    "profit[tuple(zip(*indices))]"
   ]
  },
  {
   "cell_type": "markdown",
   "id": "2de65244",
   "metadata": {},
   "source": [
    "### Find minimal value for minus delta"
   ]
  },
  {
   "cell_type": "code",
   "execution_count": 190,
   "id": "7ff99d62",
   "metadata": {},
   "outputs": [
    {
     "data": {
      "text/plain": [
       "2.0"
      ]
     },
     "execution_count": 190,
     "metadata": {},
     "output_type": "execute_result"
    }
   ],
   "source": [
    "# Get the minimal value for minus delta (...[e][[1, 2]])\n",
    "e = tuple(zip(*indices))\n",
    "min_transp = np.min(transportation[e][[1, 2]])\n",
    "min_transp"
   ]
  },
  {
   "cell_type": "code",
   "execution_count": 184,
   "id": "ed62d12a",
   "metadata": {
    "scrolled": true
   },
   "outputs": [
    {
     "data": {
      "text/plain": [
       "array([[ 0., -7.,  0., -3.],\n",
       "       [-2.,  0.,  0.,  1.],\n",
       "       [-9., -5.,  0.,  0.]])"
      ]
     },
     "execution_count": 184,
     "metadata": {},
     "output_type": "execute_result"
    }
   ],
   "source": [
    "r_profit"
   ]
  },
  {
   "cell_type": "code",
   "execution_count": 186,
   "id": "85b9fef3",
   "metadata": {
    "scrolled": true
   },
   "outputs": [
    {
     "data": {
      "text/plain": [
       "(3, 4)"
      ]
     },
     "execution_count": 186,
     "metadata": {},
     "output_type": "execute_result"
    }
   ],
   "source": [
    "c1_max, c2_max"
   ]
  },
  {
   "cell_type": "markdown",
   "id": "8a0b7033",
   "metadata": {},
   "source": [
    "### Subtract min delta"
   ]
  },
  {
   "cell_type": "code",
   "execution_count": 194,
   "id": "2db2b03a",
   "metadata": {
    "scrolled": false
   },
   "outputs": [
    {
     "data": {
      "text/plain": [
       "array([[10.,  0., 10.,  0.],\n",
       "       [ 0., 28.,  0.,  2.],\n",
       "       [ 0.,  0., 17., 48.]])"
      ]
     },
     "execution_count": 194,
     "metadata": {},
     "output_type": "execute_result"
    }
   ],
   "source": [
    "transportation"
   ]
  },
  {
   "cell_type": "code",
   "execution_count": 191,
   "id": "4f1392db",
   "metadata": {},
   "outputs": [],
   "source": [
    "# Create 4-element array with delta and minus delta values\n",
    "deltas = np.full((4,), fill_value=min_transp)\n",
    "deltas[[1, 2]] = deltas[[1, 2]] * -1\n",
    "deltas"
   ]
  },
  {
   "cell_type": "code",
   "execution_count": 193,
   "id": "ec66cb07",
   "metadata": {},
   "outputs": [],
   "source": [
    "# Add deltas to appropirate elements in the transportation array\n",
    "transportation[tuple(zip(*indices))] += deltas"
   ]
  },
  {
   "cell_type": "code",
   "execution_count": 189,
   "id": "6840baed",
   "metadata": {},
   "outputs": [
    {
     "data": {
      "text/plain": [
       "array([ 0., 50.,  2., 15.])"
      ]
     },
     "execution_count": 189,
     "metadata": {},
     "output_type": "execute_result"
    }
   ],
   "source": [
    "# Print transportation array\n",
    "transportation[tuple(zip(*indices))]"
   ]
  }
 ],
 "metadata": {
  "kernelspec": {
   "display_name": "Python 3 (ipykernel)",
   "language": "python",
   "name": "python3"
  },
  "language_info": {
   "codemirror_mode": {
    "name": "ipython",
    "version": 3
   },
   "file_extension": ".py",
   "mimetype": "text/x-python",
   "name": "python",
   "nbconvert_exporter": "python",
   "pygments_lexer": "ipython3",
   "version": "3.9.7"
  }
 },
 "nbformat": 4,
 "nbformat_minor": 5
}
