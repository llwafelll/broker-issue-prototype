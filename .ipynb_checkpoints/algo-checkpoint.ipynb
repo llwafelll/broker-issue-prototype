{
 "cells": [
  {
   "cell_type": "code",
   "execution_count": 1,
   "id": "b51752e7",
   "metadata": {},
   "outputs": [],
   "source": [
    "import numpy as np\n",
    "import matplotlib.pyplot as plt\n",
    "import pandas as pd\n",
    "import copy\n",
    "import itertools as it"
   ]
  },
  {
   "cell_type": "markdown",
   "id": "5cc4d2aa",
   "metadata": {},
   "source": [
    "## Transportation problem\n",
    "TODO:\n",
    "- Handle `supply != demand` scenario"
   ]
  },
  {
   "cell_type": "markdown",
   "id": "58754ef1",
   "metadata": {},
   "source": [
    "### Prepare data"
   ]
  },
  {
   "cell_type": "code",
   "execution_count": 229,
   "id": "0277ce07",
   "metadata": {},
   "outputs": [],
   "source": [
    "costs = np.array(\n",
    "    [[3,  5,  7],\n",
    "    [12, 10, 9],\n",
    "    [13, 3,  9]]\n",
    ")\n",
    "supply = np.array([20, 40, 90]) # podaż\n",
    "demand = np.array([50, 70, 30])  #popyt \n",
    "\n",
    "SIZE = costs.shape[0]\n",
    "\n",
    "transportation = np.zeros((SIZE, SIZE))\n",
    "\n",
    "# List of tuples (x, y) which describes position allowed to read\n",
    "path: list[tuple] = []"
   ]
  },
  {
   "cell_type": "markdown",
   "id": "b81b841b",
   "metadata": {},
   "source": [
    "### Create path\n",
    "Create `path` variable, `transportation` matrix and substract values from `demand`/`supply` lists"
   ]
  },
  {
   "cell_type": "code",
   "execution_count": 230,
   "id": "95b35ec3",
   "metadata": {},
   "outputs": [],
   "source": [
    "d, s = 0, 0\n",
    "while(True):   \n",
    "    if d == SIZE or s == SIZE:\n",
    "        break\n",
    "        \n",
    "    if demand[d] >= supply[s]:\n",
    "        demand[d] -= supply[s]\n",
    "        transportation[d, s] = supply[s]\n",
    "        \n",
    "        path.append((d, s))\n",
    "        s += 1\n",
    "    \n",
    "    else:\n",
    "        supply[s] -= demand[d]\n",
    "        transportation[d, s] = demand[d]\n",
    "        \n",
    "        path.append((d, s))\n",
    "        d += 1"
   ]
  },
  {
   "cell_type": "code",
   "execution_count": 106,
   "id": "4f349a98",
   "metadata": {},
   "outputs": [
    {
     "data": {
      "text/plain": [
       "array([[10.,  0., 10.,  0.],\n",
       "       [ 0., 28.,  2.,  0.],\n",
       "       [ 0.,  0., 15., 50.]])"
      ]
     },
     "execution_count": 106,
     "metadata": {},
     "output_type": "execute_result"
    }
   ],
   "source": [
    "transportation"
   ]
  },
  {
   "cell_type": "code",
   "execution_count": 105,
   "id": "985b8150",
   "metadata": {
    "scrolled": true
   },
   "outputs": [
    {
     "data": {
      "text/plain": [
       "[(0, 0), (0, 2), (1, 1), (1, 2), (2, 3), (2, 2)]"
      ]
     },
     "execution_count": 105,
     "metadata": {},
     "output_type": "execute_result"
    }
   ],
   "source": [
    "path"
   ]
  },
  {
   "cell_type": "markdown",
   "id": "ca8679a3",
   "metadata": {},
   "source": [
    "### Make zeros on the path"
   ]
  },
  {
   "cell_type": "code",
   "execution_count": 220,
   "id": "00d46187",
   "metadata": {},
   "outputs": [],
   "source": [
    "# Custom path for testing\n",
    "path = [(0, 0), (0, 1), (1, 2), (2, 1), (2, 2)]"
   ]
  },
  {
   "cell_type": "code",
   "execution_count": 231,
   "id": "8dda3028",
   "metadata": {
    "scrolled": true
   },
   "outputs": [],
   "source": [
    "O = np.zeros((SIZE,)) # alpha\n",
    "D = np.zeros((SIZE,)) # beta\n",
    "sO = np.full((SIZE,), False, dtype=bool) # state O\n",
    "sO[0] = True\n",
    "sD = np.full((SIZE,), False, dtype=bool) # state D\n",
    "\n",
    "c_path = path[:] # copy of path for modification\n",
    "\n",
    "c = 0 # counter\n",
    "while(True):\n",
    "    i, j = c_path[c]\n",
    "    # If one of the values is True and remaining False\n",
    "    if sO[i] ^ sD[j]:\n",
    "        if sO[i]:\n",
    "            D[j] = -1 * (O[i] + D[j] + costs[i, j])\n",
    "            sD[j] = True\n",
    "        else:\n",
    "            O[i] = -1 * (O[i] + D[j] + costs[i, j])\n",
    "            sO[i] = True\n",
    "        c += 1\n",
    "    \n",
    "    # If both values are True\n",
    "    elif not (sO[i] & sD[j]):\n",
    "        c_path.append(c_path.pop(c))\n",
    "    \n",
    "    # If both values are False\n",
    "    else:\n",
    "        print(\"Error - both values sO[i] and sD[j] contain False value!\")\n",
    "        break\n",
    "\n",
    "    if c > len(c_path) - 1:\n",
    "        break"
   ]
  },
  {
   "cell_type": "markdown",
   "id": "f6b4706d",
   "metadata": {},
   "source": [
    "##### Results"
   ]
  },
  {
   "cell_type": "code",
   "execution_count": 238,
   "id": "74f49386",
   "metadata": {
    "scrolled": true
   },
   "outputs": [
    {
     "data": {
      "text/plain": [
       "array([[ 0.],\n",
       "       [-5.],\n",
       "       [-5.]])"
      ]
     },
     "execution_count": 238,
     "metadata": {},
     "output_type": "execute_result"
    }
   ],
   "source": [
    "O[:, np.newaxis]"
   ]
  },
  {
   "cell_type": "code",
   "execution_count": 233,
   "id": "e3ae4262",
   "metadata": {
    "scrolled": true
   },
   "outputs": [
    {
     "data": {
      "text/plain": [
       "array([-3., -5., -4.])"
      ]
     },
     "execution_count": 233,
     "metadata": {},
     "output_type": "execute_result"
    }
   ],
   "source": [
    "D"
   ]
  },
  {
   "cell_type": "markdown",
   "id": "bbae0771",
   "metadata": {},
   "source": [
    "## Find minimal value of transportation matrix\n",
    "After substracting alpha and beta"
   ]
  },
  {
   "cell_type": "markdown",
   "id": "1336141c",
   "metadata": {},
   "source": [
    "### Sum costs, O and D (alpha, beta)"
   ]
  },
  {
   "cell_type": "code",
   "execution_count": 244,
   "id": "f6870206",
   "metadata": {
    "scrolled": true
   },
   "outputs": [
    {
     "data": {
      "text/plain": [
       "array([[ 0.,  0.,  3.],\n",
       "       [ 4.,  0.,  0.],\n",
       "       [ 5., -7.,  0.]])"
      ]
     },
     "execution_count": 244,
     "metadata": {},
     "output_type": "execute_result"
    }
   ],
   "source": [
    "r_costs = costs + D + O[:, np.newaxis]\n",
    "r_costs"
   ]
  },
  {
   "cell_type": "code",
   "execution_count": 265,
   "id": "7e01ab78",
   "metadata": {
    "scrolled": true
   },
   "outputs": [],
   "source": [
    "# Store minimum value index of r_costs\n",
    "min_value_i = np.unravel_index(np.argmin(r_costs, axis=None), r_costs.shape)\n",
    "\n",
    "# Check if minimum value is negative, if not program should break\n",
    "if r_costs[min_value_i] >= 0:\n",
    "    min_value_i = None"
   ]
  },
  {
   "cell_type": "code",
   "execution_count": 270,
   "id": "c6ca902a",
   "metadata": {
    "scrolled": false
   },
   "outputs": [
    {
     "data": {
      "text/plain": [
       "array([-7.,  0.])"
      ]
     },
     "execution_count": 270,
     "metadata": {},
     "output_type": "execute_result"
    }
   ],
   "source": [
    "r_costs[[2, 1], [2, 1]]"
   ]
  },
  {
   "cell_type": "markdown",
   "id": "518b40e0",
   "metadata": {},
   "source": [
    "### Find delta indices"
   ]
  },
  {
   "cell_type": "code",
   "execution_count": 332,
   "id": "d1dee34c",
   "metadata": {
    "scrolled": true
   },
   "outputs": [],
   "source": [
    "assert min_value_i != None\n",
    "indices = []\n",
    "a, b = min_value_i\n",
    "\n",
    "for c1, c2 in it.product(range(1, SIZE), repeat=2):\n",
    "    indices = [\n",
    "                (a, b),\n",
    "                ((a + c1)%3, b),\n",
    "                (a, (b + c2)%3),\n",
    "                ((a + c1)%3, (b + c2)%3)\n",
    "                ]\n",
    "    \n",
    "    e = tuple(zip(*indices))\n",
    "    if all((i in path for i in indices[1:])):\n",
    "        break"
   ]
  },
  {
   "cell_type": "markdown",
   "id": "2da3b8de",
   "metadata": {},
   "source": [
    "##### Results"
   ]
  },
  {
   "cell_type": "code",
   "execution_count": 333,
   "id": "a52bbeb6",
   "metadata": {
    "scrolled": true
   },
   "outputs": [
    {
     "data": {
      "text/plain": [
       "[(2, 1), (1, 1), (2, 2), (1, 2)]"
      ]
     },
     "execution_count": 333,
     "metadata": {},
     "output_type": "execute_result"
    }
   ],
   "source": [
    "indices"
   ]
  },
  {
   "cell_type": "code",
   "execution_count": 336,
   "id": "859837f0",
   "metadata": {
    "scrolled": true
   },
   "outputs": [
    {
     "data": {
      "text/plain": [
       "array([-7.,  0., -7.,  0.])"
      ]
     },
     "execution_count": 336,
     "metadata": {},
     "output_type": "execute_result"
    }
   ],
   "source": [
    "r_costs[tuple(zip(*indices))]"
   ]
  },
  {
   "cell_type": "code",
   "execution_count": 347,
   "id": "4b2a4636",
   "metadata": {
    "scrolled": true
   },
   "outputs": [
    {
     "data": {
      "text/plain": [
       "10.0"
      ]
     },
     "execution_count": 347,
     "metadata": {},
     "output_type": "execute_result"
    }
   ],
   "source": [
    "# Get the minimal value for minus delta (...[e][1::2])\n",
    "e = tuple(zip(*indices))\n",
    "min_transp = np.min(transportation[e][1::2])\n",
    "min_transp"
   ]
  },
  {
   "cell_type": "markdown",
   "id": "dcdede9c",
   "metadata": {},
   "source": [
    "### Others"
   ]
  },
  {
   "cell_type": "code",
   "execution_count": 107,
   "id": "70b15a68",
   "metadata": {
    "scrolled": true
   },
   "outputs": [
    {
     "data": {
      "text/plain": [
       "array([ 3,  5, 10,  9,  9])"
      ]
     },
     "execution_count": 107,
     "metadata": {},
     "output_type": "execute_result"
    }
   ],
   "source": [
    "v = list(zip(*path))\n",
    "costs[v[0], v[1]]"
   ]
  },
  {
   "cell_type": "code",
   "execution_count": 283,
   "id": "aa8245a6",
   "metadata": {
    "scrolled": true
   },
   "outputs": [
    {
     "data": {
      "text/plain": [
       "[(1, 1), (1, 2), (2, 1), (2, 2)]"
      ]
     },
     "execution_count": 283,
     "metadata": {},
     "output_type": "execute_result"
    }
   ],
   "source": [
    "list(it.product([1, 2], repeat=2))"
   ]
  },
  {
   "cell_type": "code",
   "execution_count": 304,
   "id": "61bbf782",
   "metadata": {
    "scrolled": false
   },
   "outputs": [
    {
     "data": {
      "text/plain": [
       "array([[ 0.,  0.,  3.],\n",
       "       [ 4.,  0.,  0.],\n",
       "       [ 5., -7., -7.]])"
      ]
     },
     "execution_count": 304,
     "metadata": {},
     "output_type": "execute_result"
    }
   ],
   "source": [
    "r_costs"
   ]
  },
  {
   "cell_type": "code",
   "execution_count": null,
   "id": "8d6909af",
   "metadata": {},
   "outputs": [],
   "source": [
    "r_costs[]"
   ]
  },
  {
   "cell_type": "code",
   "execution_count": 300,
   "id": "2e93c754",
   "metadata": {
    "scrolled": true
   },
   "outputs": [
    {
     "data": {
      "text/plain": [
       "array([-7.,  0.,  5.,  4.])"
      ]
     },
     "execution_count": 300,
     "metadata": {},
     "output_type": "execute_result"
    }
   ],
   "source": [
    "r_costs[tuple(zip(*indices))]"
   ]
  },
  {
   "cell_type": "markdown",
   "id": "3abb4001",
   "metadata": {},
   "source": [
    "## Broker problem"
   ]
  },
  {
   "cell_type": "code",
   "execution_count": 115,
   "id": "08a68b44",
   "metadata": {},
   "outputs": [],
   "source": [
    "# Unit transportation costs\n",
    "costs = np.array([\n",
    "        [8, 14, 17],\n",
    "        [12, 9, 19]\n",
    "    ]\n",
    ")\n",
    "\n",
    "# Popyt i podaż dla odbiorców O1, O2... o dostawców D1, D2, ...\n",
    "supply = np.array([20, 30]) # podaż\n",
    "demand = np.array([10, 28, 27])  #popyt \n",
    "\n",
    "# Handling unbalanced scenario (fictional supplier/receiver)\n",
    "profit = np.array([])\n",
    "if (demand_sum := demand.sum()) != (supply_sum := supply.sum()):\n",
    "    supply = np.append(supply, [demand_sum])\n",
    "    demand = np.append(demand, [supply_sum])\n",
    "    profit = np.zeros((supply.size, demand.size))\n",
    "\n",
    "\n",
    "# Koszty zakupów / Cena sprzedaży\n",
    "order_costs = np.array([10, 12])\n",
    "sell_costs = np.array([30, 25, 30])\n",
    "\n",
    "SHAPE = costs.shape\n",
    "# SIZE = costs.shape[0]\n",
    "\n",
    "transportation = np.zeros((supply.size, demand.size))\n",
    "\n",
    "# List of tuples (x, y) which describes position allowed to read\n",
    "path: list[tuple] = []"
   ]
  },
  {
   "cell_type": "markdown",
   "id": "2103c565",
   "metadata": {},
   "source": [
    "### Create profit matrix"
   ]
  },
  {
   "cell_type": "code",
   "execution_count": 116,
   "id": "418f0e4a",
   "metadata": {},
   "outputs": [],
   "source": [
    "# Zysk jednostkowy\n",
    "if profit.size == 0:\n",
    "    profit = np.zeros(SHAPE)\n",
    "\n",
    "for i, j in it.product(range(SHAPE[0]), range(SHAPE[1])):\n",
    "    profit[i, j] = sell_costs[j] - order_costs[i] - costs[i, j]"
   ]
  },
  {
   "cell_type": "code",
   "execution_count": 9,
   "id": "20212d49",
   "metadata": {
    "scrolled": false
   },
   "outputs": [
    {
     "data": {
      "text/plain": [
       "array([[12.,  1.,  3.],\n",
       "       [ 6.,  4., -1.]])"
      ]
     },
     "execution_count": 9,
     "metadata": {},
     "output_type": "execute_result"
    }
   ],
   "source": [
    "# profit supply demand"
   ]
  },
  {
   "cell_type": "code",
   "execution_count": 90,
   "id": "8b663f36",
   "metadata": {},
   "outputs": [
    {
     "data": {
      "text/plain": [
       "array([20, 30, 65])"
      ]
     },
     "execution_count": 90,
     "metadata": {},
     "output_type": "execute_result"
    }
   ],
   "source": [
    "supply"
   ]
  },
  {
   "cell_type": "markdown",
   "id": "4084c7d9",
   "metadata": {},
   "source": [
    "## Create transportation costs matrix"
   ]
  },
  {
   "cell_type": "code",
   "execution_count": 117,
   "id": "32055060",
   "metadata": {
    "scrolled": false
   },
   "outputs": [],
   "source": [
    "d, s = 0, 0\n",
    "# supply, demand\n",
    "profit_sorted = np.argsort(np.absolute(profit), axis=1).tolist()\n",
    "while(True):\n",
    "    if supply[s] != 0:\n",
    "#         print(d)\n",
    "        d = profit_sorted[s].pop() \n",
    "        if demand[d] == 0:\n",
    "            continue\n",
    "        path.append((s, d))\n",
    "        \n",
    "        if demand[d] >= supply[s]:\n",
    "            demand[d] -= supply[s]\n",
    "            transportation[s, d] = supply[s]\n",
    "            supply[s] = 0\n",
    "            \n",
    "#             path.append((d, s))\n",
    "            \n",
    "        else:\n",
    "            supply[s] -= demand[d]\n",
    "            transportation[s, d] = demand[d]\n",
    "            demand[d] = 0\n",
    "\n",
    "#             path.append((d, s))\n",
    "\n",
    "    else:\n",
    "        s += 1\n",
    "\n",
    "    if s >= supply.size:\n",
    "        break"
   ]
  },
  {
   "cell_type": "code",
   "execution_count": 118,
   "id": "221fcb4a",
   "metadata": {
    "scrolled": true
   },
   "outputs": [
    {
     "data": {
      "text/plain": [
       "array([[10.,  0., 10.,  0.],\n",
       "       [ 0., 28.,  2.,  0.],\n",
       "       [ 0.,  0., 15., 50.]])"
      ]
     },
     "execution_count": 118,
     "metadata": {},
     "output_type": "execute_result"
    }
   ],
   "source": [
    "transportation"
   ]
  },
  {
   "cell_type": "code",
   "execution_count": 119,
   "id": "955247b0",
   "metadata": {
    "scrolled": false
   },
   "outputs": [
    {
     "data": {
      "text/plain": [
       "array([[12.,  1.,  3.,  0.],\n",
       "       [ 6.,  4., -1.,  0.],\n",
       "       [ 0.,  0.,  0.,  0.]])"
      ]
     },
     "execution_count": 119,
     "metadata": {},
     "output_type": "execute_result"
    }
   ],
   "source": [
    "profit"
   ]
  },
  {
   "cell_type": "markdown",
   "id": "3335335e",
   "metadata": {},
   "source": [
    "## Find alpha and beta"
   ]
  },
  {
   "cell_type": "code",
   "execution_count": 120,
   "id": "e0f483f4",
   "metadata": {},
   "outputs": [],
   "source": [
    "# SIZE -> fix SIZE var\n",
    "# costs -> profit\n",
    "O = np.zeros((profit.shape[0],)) # alpha\n",
    "D = np.zeros((profit.shape[1],)) # beta\n",
    "sO = np.full((profit.shape[0],), False, dtype=bool) # state O\n",
    "sO[0] = True\n",
    "sD = np.full((profit.shape[1],), False, dtype=bool) # state D\n",
    "\n",
    "c_path = path[:] # copy of path for modification\n",
    "\n",
    "c = 0 # counter\n",
    "while(True):\n",
    "    i, j = c_path[c]\n",
    "    # If one of the values is True and remaining False\n",
    "    if sO[i] ^ sD[j]:\n",
    "        if sO[i]:\n",
    "            D[j] = 1 * (- O[i] - D[j] + profit[i, j])\n",
    "            sD[j] = True\n",
    "        else:\n",
    "            O[i] = 1 * (- O[i] - D[j] + profit[i, j])\n",
    "            sO[i] = True\n",
    "        c += 1\n",
    "    \n",
    "    # If both values are True\n",
    "    elif not (sO[i] & sD[j]):\n",
    "        c_path.append(c_path.pop(c))\n",
    "    \n",
    "    # If both values are False\n",
    "    else:\n",
    "        print(\"Error - both values sO[i] and sD[j] contain False value!\")\n",
    "        break\n",
    "\n",
    "    if c > len(c_path) - 1:\n",
    "        break"
   ]
  },
  {
   "cell_type": "code",
   "execution_count": 121,
   "id": "101d2285",
   "metadata": {
    "scrolled": true
   },
   "outputs": [
    {
     "data": {
      "text/plain": [
       "array([ 0., -4., -3.])"
      ]
     },
     "execution_count": 121,
     "metadata": {},
     "output_type": "execute_result"
    }
   ],
   "source": [
    "O"
   ]
  },
  {
   "cell_type": "code",
   "execution_count": 122,
   "id": "473fce05",
   "metadata": {
    "scrolled": false
   },
   "outputs": [
    {
     "data": {
      "text/plain": [
       "array([12.,  8.,  3.,  3.])"
      ]
     },
     "execution_count": 122,
     "metadata": {},
     "output_type": "execute_result"
    }
   ],
   "source": [
    "D"
   ]
  },
  {
   "cell_type": "markdown",
   "id": "3be535cd",
   "metadata": {},
   "source": [
    "## Find minimal value of transportation matrix\n",
    "After substracting alpha and beta"
   ]
  },
  {
   "cell_type": "markdown",
   "id": "60f982d0",
   "metadata": {},
   "source": [
    "### Sum costs, O and D (alpha, beta)"
   ]
  },
  {
   "cell_type": "code",
   "execution_count": 127,
   "id": "c29c6e69",
   "metadata": {},
   "outputs": [
    {
     "data": {
      "text/plain": [
       "array([[ 0., -7.,  0., -3.],\n",
       "       [-2.,  0.,  0.,  1.],\n",
       "       [-9., -5.,  0.,  0.]])"
      ]
     },
     "execution_count": 127,
     "metadata": {},
     "output_type": "execute_result"
    }
   ],
   "source": [
    "r_profit = profit - D - O[:, np.newaxis]\n",
    "r_profit"
   ]
  },
  {
   "cell_type": "code",
   "execution_count": 128,
   "id": "2cb2fcf5",
   "metadata": {
    "scrolled": true
   },
   "outputs": [],
   "source": [
    "# Store minimum value index of r_costs\n",
    "max_value_i = np.unravel_index(np.argmax(r_profit, axis=None), r_profit.shape)\n",
    "\n",
    "# Check if maximum value is positive, if not program should break\n",
    "if r_profit[max_value_i] <= 0:\n",
    "    max_value_i = None"
   ]
  },
  {
   "cell_type": "markdown",
   "id": "8fdb1c62",
   "metadata": {},
   "source": [
    "### Find delta indices"
   ]
  },
  {
   "cell_type": "code",
   "execution_count": 135,
   "id": "16575907",
   "metadata": {},
   "outputs": [],
   "source": [
    "assert max_value_i != None\n",
    "indices = []\n",
    "a, b = max_value_i\n",
    "c1_max, c2_max = r_profit.shape[0], r_profit.shape[1]\n",
    "\n",
    "for c1, c2 in it.product(range(1, c1_max+1), range(1, c2_max+r_profit)):\n",
    "    indices = [\n",
    "                (a, b),\n",
    "                ((a + c1)%(c1_max), b),\n",
    "                (a, (b + c2)%(c2_max)),\n",
    "                ((a + c1)%(c1_max), (b + c2)%(c2_max))\n",
    "                ]\n",
    "    \n",
    "    e = tuple(zip(*indices))\n",
    "    if all((i in path for i in indices[1:])):\n",
    "        break"
   ]
  },
  {
   "cell_type": "code",
   "execution_count": 136,
   "id": "162b7388",
   "metadata": {
    "scrolled": false
   },
   "outputs": [
    {
     "data": {
      "text/plain": [
       "[(1, 3), (2, 3), (1, 2), (2, 2)]"
      ]
     },
     "execution_count": 136,
     "metadata": {},
     "output_type": "execute_result"
    }
   ],
   "source": [
    "indices"
   ]
  },
  {
   "cell_type": "code",
   "execution_count": 137,
   "id": "fd1ea8d4",
   "metadata": {
    "scrolled": true
   },
   "outputs": [
    {
     "data": {
      "text/plain": [
       "array([1., 0., 0., 0.])"
      ]
     },
     "execution_count": 137,
     "metadata": {},
     "output_type": "execute_result"
    }
   ],
   "source": [
    "r_profit[tuple(zip(*indices))]"
   ]
  },
  {
   "cell_type": "code",
   "execution_count": 138,
   "id": "cb1f6278",
   "metadata": {
    "scrolled": false
   },
   "outputs": [
    {
     "data": {
      "text/plain": [
       "array([ 0.,  0., -1.,  0.])"
      ]
     },
     "execution_count": 138,
     "metadata": {},
     "output_type": "execute_result"
    }
   ],
   "source": [
    "profit[tuple(zip(*indices))]"
   ]
  },
  {
   "cell_type": "markdown",
   "id": "2b20fec2",
   "metadata": {},
   "source": [
    "## d"
   ]
  },
  {
   "cell_type": "code",
   "execution_count": 139,
   "id": "5605d336",
   "metadata": {},
   "outputs": [
    {
     "data": {
      "text/plain": [
       "15.0"
      ]
     },
     "execution_count": 139,
     "metadata": {},
     "output_type": "execute_result"
    }
   ],
   "source": [
    "# Get the minimal value for minus delta (...[e][1::2])\n",
    "e = tuple(zip(*indices))\n",
    "min_transp = np.min(transportation[e][1::2])\n",
    "min_transp"
   ]
  },
  {
   "cell_type": "code",
   "execution_count": 131,
   "id": "090b5678",
   "metadata": {
    "scrolled": true
   },
   "outputs": [
    {
     "data": {
      "text/plain": [
       "array([[ 0., -7.,  0., -3.],\n",
       "       [-2.,  0.,  0.,  1.],\n",
       "       [-9., -5.,  0.,  0.]])"
      ]
     },
     "execution_count": 131,
     "metadata": {},
     "output_type": "execute_result"
    }
   ],
   "source": [
    "r_profit"
   ]
  },
  {
   "cell_type": "code",
   "execution_count": 133,
   "id": "d1dbb555",
   "metadata": {
    "scrolled": true
   },
   "outputs": [
    {
     "data": {
      "text/plain": [
       "(3, 4)"
      ]
     },
     "execution_count": 133,
     "metadata": {},
     "output_type": "execute_result"
    }
   ],
   "source": [
    "c1_max, c2_max"
   ]
  },
  {
   "cell_type": "markdown",
   "id": "39464b25",
   "metadata": {},
   "source": [
    "## test"
   ]
  },
  {
   "cell_type": "code",
   "execution_count": 148,
   "id": "00ef8aee",
   "metadata": {
    "scrolled": false
   },
   "outputs": [
    {
     "data": {
      "text/plain": [
       "array([[10.,  0., 10.,  0.],\n",
       "       [ 0., 28.,  4.,  2.],\n",
       "       [ 0.,  0., 17., 52.]])"
      ]
     },
     "execution_count": 148,
     "metadata": {},
     "output_type": "execute_result"
    }
   ],
   "source": [
    "transportation"
   ]
  },
  {
   "cell_type": "code",
   "execution_count": 143,
   "id": "12523f29",
   "metadata": {
    "scrolled": false
   },
   "outputs": [
    {
     "data": {
      "text/plain": [
       "[(1, 3), (2, 3), (1, 2), (2, 2)]"
      ]
     },
     "execution_count": 143,
     "metadata": {},
     "output_type": "execute_result"
    }
   ],
   "source": [
    "indices"
   ]
  },
  {
   "cell_type": "code",
   "execution_count": 150,
   "id": "070a50d6",
   "metadata": {},
   "outputs": [
    {
     "data": {
      "text/plain": [
       "[15.0, -15.0, 15.0, -15.0]"
      ]
     },
     "execution_count": 150,
     "metadata": {},
     "output_type": "execute_result"
    }
   ],
   "source": [
    "[min_transp if x % 2 == 0 else -1 * min_transp for x in range(4)]"
   ]
  },
  {
   "cell_type": "code",
   "execution_count": 149,
   "id": "d70dcc3f",
   "metadata": {},
   "outputs": [
    {
     "data": {
      "text/plain": [
       "array([ 2., 52.,  4., 17.])"
      ]
     },
     "execution_count": 149,
     "metadata": {},
     "output_type": "execute_result"
    }
   ],
   "source": [
    "transportation[tuple(zip(*indices))]"
   ]
  }
 ],
 "metadata": {
  "kernelspec": {
   "display_name": "Python 3 (ipykernel)",
   "language": "python",
   "name": "python3"
  },
  "language_info": {
   "codemirror_mode": {
    "name": "ipython",
    "version": 3
   },
   "file_extension": ".py",
   "mimetype": "text/x-python",
   "name": "python",
   "nbconvert_exporter": "python",
   "pygments_lexer": "ipython3",
   "version": "3.9.7"
  }
 },
 "nbformat": 4,
 "nbformat_minor": 5
}
